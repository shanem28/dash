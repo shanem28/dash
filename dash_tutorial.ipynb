{
 "cells": [
  {
   "cell_type": "code",
   "execution_count": 1,
   "id": "ee3fc81a-cfcb-4ea7-9733-73c69c356c8e",
   "metadata": {
    "tags": []
   },
   "outputs": [],
   "source": [
    "from jupyter_dash import JupyterDash\n",
    "from dash import Dash, html, dcc\n",
    "import plotly.express as px\n",
    "import pandas as pd"
   ]
  },
  {
   "cell_type": "code",
   "execution_count": 3,
   "id": "a043a8d1-3888-45fa-adbb-83c480418026",
   "metadata": {
    "tags": []
   },
   "outputs": [],
   "source": [
    "JupyterDash.infer_jupyter_proxy_config()"
   ]
  },
  {
   "cell_type": "code",
   "execution_count": 4,
   "id": "df8003a2-7745-4915-924d-b969c19db3b6",
   "metadata": {
    "tags": []
   },
   "outputs": [],
   "source": [
    "app = JupyterDash(__name__)"
   ]
  },
  {
   "cell_type": "code",
   "execution_count": 5,
   "id": "ed3b2263-0835-4975-8947-252185940215",
   "metadata": {
    "tags": []
   },
   "outputs": [
    {
     "name": "stdout",
     "output_type": "stream",
     "text": [
      "Dash is running on http://127.0.0.1:8050/\n",
      "\n"
     ]
    }
   ],
   "source": [
    "colors = {\n",
    "    'background':'#111111',\n",
    "    'text':'#7FDBFF'\n",
    "}\n",
    "\n",
    "df= pd.DataFrame({\n",
    "    \"Fruit\":['Apples','Oranges','Bananas','Apples','Oranges','Bananas'],\n",
    "    \"Amount\":[4,1,2,2,4,5],\n",
    "    \"City\":['SF','SF','SF','Montreal','Montreal','Montreal']\n",
    "})\n",
    "fig = px.bar(df, x=\"Fruit\", y=\"Amount\", color=\"City\", barmode=\"group\")\n",
    "fig.update_layout(\n",
    "    plot_bgcolor=colors['background'],\n",
    "    paper_bgcolor=colors['background'],\n",
    "    font_color=colors['text']\n",
    ")\n",
    "app.layout = html.Div(style={'backgroundColor':colors['background']}, children=[\n",
    "    html.H1(\n",
    "        children='Hello Shane',\n",
    "        style={\n",
    "            'textAlign':'center',\n",
    "            'color':colors['text']\n",
    "        }),\n",
    "    html.Div(children='Dash: A web application framework for your data', style={\n",
    "        'textAlign':'center',\n",
    "        'color':colors['text']\n",
    "    }),\n",
    "    dcc.Graph(\n",
    "        id='example-graph-2',\n",
    "        figure=fig\n",
    "    )\n",
    "])\n",
    "\n",
    "if __name__ == '__main__':\n",
    "    app.run_server(debug=True,mode='jupyterlab')"
   ]
  },
  {
   "cell_type": "code",
   "execution_count": null,
   "id": "7b6535cf-7c33-4e70-935d-9d63d4692f84",
   "metadata": {},
   "outputs": [],
   "source": []
  }
 ],
 "metadata": {
  "kernelspec": {
   "display_name": "Python 3 (ipykernel)",
   "language": "python",
   "name": "python3"
  },
  "language_info": {
   "codemirror_mode": {
    "name": "ipython",
    "version": 3
   },
   "file_extension": ".py",
   "mimetype": "text/x-python",
   "name": "python",
   "nbconvert_exporter": "python",
   "pygments_lexer": "ipython3",
   "version": "3.10.9"
  }
 },
 "nbformat": 4,
 "nbformat_minor": 5
}
